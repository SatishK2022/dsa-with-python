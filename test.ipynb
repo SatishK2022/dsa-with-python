{
 "cells": [
  {
   "cell_type": "code",
   "execution_count": 11,
   "metadata": {},
   "outputs": [
    {
     "name": "stdout",
     "output_type": "stream",
     "text": [
      "10\n"
     ]
    }
   ],
   "source": [
    "def print2largest(arr):\n",
    "    # Code Here\n",
    "    \n",
    "    largest = 0\n",
    "    second_largest = 0\n",
    "    \n",
    "    for i in range(len(arr)):\n",
    "        if arr[i] > largest:\n",
    "            second_largest = largest\n",
    "            largest = arr[i]\n",
    "        elif arr[i] > second_largest and arr[i] < largest:\n",
    "            second_largest = arr[i]\n",
    "        \n",
    "    if second_largest == 0:\n",
    "        return -1\n",
    "            \n",
    "    return second_largest\n",
    "\n",
    "\n",
    "arr = [10, 10, 1, 3, 4, 1,3, 40, 2]\n",
    "print(print2largest(arr))"
   ]
  },
  {
   "cell_type": "code",
   "execution_count": 16,
   "metadata": {},
   "outputs": [
    {
     "name": "stdout",
     "output_type": "stream",
     "text": [
      "Maximum: 40 Minimum: 1\n"
     ]
    }
   ],
   "source": [
    "def min_max(arr):\n",
    "    # Code Here\n",
    "    min = float(\"inf\")\n",
    "    max = 0\n",
    "\n",
    "    for i in range(len(arr)):\n",
    "        if arr[i] > max:\n",
    "            max = arr[i]\n",
    "        elif arr[i] < min:\n",
    "            min = arr[i]\n",
    "\n",
    "    return [max, min]\n",
    "\n",
    "\n",
    "arr = [10, 10, 1, 3, 4, 1, 3, 40, 2]\n",
    "result = min_max(arr)\n",
    "print(f\"Maximum: {result[0]} Minimum: {result[1]}\")"
   ]
  },
  {
   "cell_type": "code",
   "execution_count": 43,
   "metadata": {},
   "outputs": [
    {
     "name": "stdout",
     "output_type": "stream",
     "text": [
      "(10, 75)\n"
     ]
    }
   ],
   "source": [
    "def min_max(arr, i, j):\n",
    "    if i == j:\n",
    "        min = arr[i]\n",
    "        max = arr[i]\n",
    "    elif i == j - 1:\n",
    "        if arr[i] < arr[j]:\n",
    "            min = arr[i]\n",
    "            max = arr[j]\n",
    "        else:\n",
    "            min = arr[j]\n",
    "            max = arr[i]\n",
    "    else:\n",
    "        mid = i + (j - i) // 2\n",
    "        minl, maxl = min_max(arr, i, mid)\n",
    "        minr, maxr = min_max(arr, mid + 1, j)\n",
    "\n",
    "        if minl < minr:\n",
    "            min = minl\n",
    "        else:\n",
    "            min = minr\n",
    "\n",
    "        if maxr > maxl:\n",
    "            max = maxr\n",
    "        else:\n",
    "            max = maxl\n",
    "\n",
    "    return min, max\n",
    "\n",
    "\n",
    "arr = [70, 50, 45, 10, 12, 15, 75, 29, 37, 57]\n",
    "result = min_max(arr, 0, len(arr) - 1)\n",
    "print(result)"
   ]
  }
 ],
 "metadata": {
  "kernelspec": {
   "display_name": "Python 3",
   "language": "python",
   "name": "python3"
  },
  "language_info": {
   "codemirror_mode": {
    "name": "ipython",
    "version": 3
   },
   "file_extension": ".py",
   "mimetype": "text/x-python",
   "name": "python",
   "nbconvert_exporter": "python",
   "pygments_lexer": "ipython3",
   "version": "3.12.5"
  }
 },
 "nbformat": 4,
 "nbformat_minor": 2
}
