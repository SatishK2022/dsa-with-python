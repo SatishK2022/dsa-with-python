{
 "cells": [
  {
   "cell_type": "markdown",
   "metadata": {},
   "source": [
    "## **Top K Frequent Elements**"
   ]
  },
  {
   "cell_type": "code",
   "execution_count": 8,
   "metadata": {},
   "outputs": [
    {
     "name": "stdout",
     "output_type": "stream",
     "text": [
      "Top 2 frequent elements are: [1, 2]\n"
     ]
    }
   ],
   "source": [
    "from collections import Counter\n",
    "import heapq\n",
    "\n",
    "# Function Definition\n",
    "def top_k_frequent_elements(arr, k):\n",
    "    if len(arr) == k:\n",
    "        # return arr # If we also want the repeating elements\n",
    "        return set(arr) # If we don't want the repeating elements\n",
    "\n",
    "    count = Counter(arr)\n",
    "    return heapq.nlargest(k, count, key = count.get)\n",
    "\n",
    "\n",
    "# Driver Code\n",
    "arr = [1, 1, 1, 2, 2, 3]\n",
    "k = 2\n",
    "result = top_k_frequent_elements(arr, k)\n",
    "print(f\"Top {k} frequent elements are: {result}\")"
   ]
  },
  {
   "cell_type": "markdown",
   "metadata": {},
   "source": [
    "## **K Closest Points to Origin**"
   ]
  },
  {
   "cell_type": "code",
   "execution_count": 1,
   "metadata": {},
   "outputs": [
    {
     "name": "stdout",
     "output_type": "stream",
     "text": [
      "Closest points are [[3, 3], [-2, 4]]\n"
     ]
    }
   ],
   "source": [
    "from heapq import heappush, heappop\n",
    "import math\n",
    "\n",
    "# Function to get the distance\n",
    "def get_distance(x, y):\n",
    "    return math.sqrt(x**2 + y**2)\n",
    "\n",
    "# Function Definition\n",
    "def kClosest(points, k):\n",
    "    n = len(points)\n",
    "    min_heap = []\n",
    "    for i in range(n):\n",
    "        x = points[i][0]\n",
    "        y = points[i][1]\n",
    "\n",
    "        heappush(min_heap, (get_distance(x, y), points[i]))\n",
    "\n",
    "    result = []\n",
    "    for i in range(k):\n",
    "        result.append(heappop(min_heap)[1])\n",
    "\n",
    "    return result\n",
    "\n",
    "\n",
    "# Driver code\n",
    "points = [[3, 3], [5, -1], [-2, 4]]\n",
    "k = 2\n",
    "result = kClosest(points, k)\n",
    "print(\"Closest points are\", result)"
   ]
  }
 ],
 "metadata": {
  "kernelspec": {
   "display_name": "Python 3",
   "language": "python",
   "name": "python3"
  },
  "language_info": {
   "codemirror_mode": {
    "name": "ipython",
    "version": 3
   },
   "file_extension": ".py",
   "mimetype": "text/x-python",
   "name": "python",
   "nbconvert_exporter": "python",
   "pygments_lexer": "ipython3",
   "version": "3.12.5"
  }
 },
 "nbformat": 4,
 "nbformat_minor": 2
}
