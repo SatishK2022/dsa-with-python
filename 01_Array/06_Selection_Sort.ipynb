{
 "cells": [
  {
   "cell_type": "markdown",
   "metadata": {},
   "source": [
    "# **Selection Sort**"
   ]
  },
  {
   "cell_type": "code",
   "execution_count": 28,
   "metadata": {},
   "outputs": [
    {
     "name": "stdout",
     "output_type": "stream",
     "text": [
      "Sorted array is: [5, 12, 23, 28, 30, 40, 43, 46, 67, 76, 90]\n"
     ]
    }
   ],
   "source": [
    "# Implementation of selection sort\n",
    "def selection_sort(arr):\n",
    "    n = len(arr)\n",
    "\n",
    "    for i in range(n):\n",
    "        min = i\n",
    "        for j in range(i + 1, n):\n",
    "            if arr[j] < arr[min]:\n",
    "                min = j\n",
    "        arr[min], arr[i] = arr[i], arr[min]\n",
    "    return arr\n",
    "\n",
    "\n",
    "# Driver code\n",
    "arr = [30, 12, 23, 76, 43, 67, 90, 40, 5, 28, 46]\n",
    "result = selection_sort(arr)\n",
    "print(f\"Sorted array is: {result}\")"
   ]
  }
 ],
 "metadata": {
  "kernelspec": {
   "display_name": "Python 3",
   "language": "python",
   "name": "python3"
  },
  "language_info": {
   "codemirror_mode": {
    "name": "ipython",
    "version": 3
   },
   "file_extension": ".py",
   "mimetype": "text/x-python",
   "name": "python",
   "nbconvert_exporter": "python",
   "pygments_lexer": "ipython3",
   "version": "3.12.5"
  }
 },
 "nbformat": 4,
 "nbformat_minor": 2
}
