{
 "cells": [
  {
   "cell_type": "markdown",
   "metadata": {},
   "source": [
    "# **Insertion Sort**"
   ]
  },
  {
   "cell_type": "code",
   "execution_count": 4,
   "metadata": {},
   "outputs": [
    {
     "name": "stdout",
     "output_type": "stream",
     "text": [
      "Sorted array is: [0, 0, 1, 2, 2, 4, 5, 6, 9, 21, 23, 43, 54]\n"
     ]
    }
   ],
   "source": [
    "# Insertion Sort Algorithm\n",
    "def insertion_sort(arr):\n",
    "    # Iterate through each element in the array starting from the second element\n",
    "    # We assume 1st element is already sorted\n",
    "    for i in range(1, len(arr)):\n",
    "        key = arr[\n",
    "            i\n",
    "        ]  # The current element to be inserted into the sorted portion of the array\n",
    "\n",
    "        j = i - 1  # Start comparing with the previous element\n",
    "\n",
    "        # Move elements of arr[0..i-1], that are greater than key, to one position\n",
    "        # ahead of their current position\n",
    "        while j >= 0 and key < arr[j]:\n",
    "            arr[j + 1] = arr[j]  # Shift the larger element to the right\n",
    "            j -= 1  # Move to the next element on the left\n",
    "\n",
    "        arr[j + 1] = key  # Place the key in its correct position\n",
    "\n",
    "\n",
    "# Driver Code\n",
    "arr = [2, 1, 43, 21, 54, 23, 9, 4, 6, 0, 5, 2, 0]  # Unsorted array\n",
    "insertion_sort(arr)  # Call the insertion sort function to sort the array\n",
    "print(\"Sorted array is:\", arr)  # Print the sorted array"
   ]
  }
 ],
 "metadata": {
  "kernelspec": {
   "display_name": "Python 3",
   "language": "python",
   "name": "python3"
  },
  "language_info": {
   "codemirror_mode": {
    "name": "ipython",
    "version": 3
   },
   "file_extension": ".py",
   "mimetype": "text/x-python",
   "name": "python",
   "nbconvert_exporter": "python",
   "pygments_lexer": "ipython3",
   "version": "3.12.5"
  }
 },
 "nbformat": 4,
 "nbformat_minor": 2
}
