{
 "cells": [
  {
   "cell_type": "markdown",
   "metadata": {},
   "source": [
    "# **Array**"
   ]
  },
  {
   "cell_type": "markdown",
   "metadata": {},
   "source": [
    "### **Linear Search**"
   ]
  },
  {
   "cell_type": "code",
   "execution_count": null,
   "metadata": {},
   "outputs": [],
   "source": [
    "# Search for an element \"5\" in the array and if it is present then print its index\n",
    "# If the searching element is not present then print -1\n",
    "\n",
    "def linear_search(arr, x):\n",
    "    for i in range(len(arr)):\n",
    "        if arr[i] == x:\n",
    "            return i\n",
    "    return -1\n",
    "\n",
    "\n",
    "arr = [1, 2, 3, 4, 5, 6, 7]\n",
    "x = 5\n",
    "result = linear_search(arr, x)\n",
    "print(\"The Number is present at index\", result)"
   ]
  },
  {
   "cell_type": "markdown",
   "metadata": {},
   "source": [
    "### **Binary Search Using Recursion**"
   ]
  },
  {
   "cell_type": "markdown",
   "metadata": {},
   "source": [
    "#### Approach 1 without Loop"
   ]
  },
  {
   "cell_type": "code",
   "execution_count": null,
   "metadata": {},
   "outputs": [],
   "source": [
    "# Implementation of binary search using recursion\n",
    "\n",
    "def binary_search(arr, start, end, x):\n",
    "    if start > end:\n",
    "        return -1\n",
    "\n",
    "    # calculate mid\n",
    "    mid = start + (end - start) // 2\n",
    "\n",
    "    if arr[mid] == x:\n",
    "        return mid\n",
    "    elif arr[mid] > x:\n",
    "        return binary_search(arr, start, mid - 1, x)\n",
    "    elif arr[mid] < x:\n",
    "        return binary_search(arr, mid + 1, end, x)\n",
    "\n",
    "\n",
    "# Driver Code\n",
    "arr = [1, 2, 3, 4, 5, 6, 7, 8, 9]\n",
    "x = 987\n",
    "result = binary_search(arr, 0, len(arr) - 1, x)\n",
    "\n",
    "if result != -1:\n",
    "    print(\"Element Present at index\", result)\n",
    "else:\n",
    "    print(\"Element is not present in array\")"
   ]
  },
  {
   "cell_type": "markdown",
   "metadata": {},
   "source": [
    "#### Approach 2 with Loop"
   ]
  },
  {
   "cell_type": "code",
   "execution_count": null,
   "metadata": {},
   "outputs": [],
   "source": [
    "# Implementation of binary search using recursion\n",
    "\n",
    "def binary_search(arr, start, end, x):\n",
    "    while start <= end:\n",
    "        # calculate mid\n",
    "        mid = start + (end - start) // 2\n",
    "\n",
    "        if arr[mid] == x:\n",
    "            return mid\n",
    "        elif arr[mid] > x:\n",
    "            return binary_search(arr, start, mid - 1, x)\n",
    "        else:\n",
    "            return binary_search(arr, mid + 1, end, x)\n",
    "    \n",
    "    # Searching element is not present in the array\n",
    "    return -1\n",
    "\n",
    "\n",
    "# Driver Code\n",
    "arr = [1, 2, 3, 4, 5, 6, 7, 8, 9]\n",
    "x = 987\n",
    "result = binary_search(arr, 0, len(arr) - 1, x)\n",
    "\n",
    "if result != -1:\n",
    "    print(\"Element Present at index\", result)\n",
    "else:\n",
    "    print(\"Element is not present in array\")"
   ]
  },
  {
   "cell_type": "markdown",
   "metadata": {},
   "source": [
    "### **Binary Search Without Recursion**"
   ]
  },
  {
   "cell_type": "code",
   "execution_count": null,
   "metadata": {},
   "outputs": [],
   "source": [
    "# implementation of binary search without recursion\n",
    "\n",
    "def binary_search(arr, start, end, x):\n",
    "    while start <= end:\n",
    "        mid = start + (end - start) // 2\n",
    "\n",
    "        if arr[mid] == x:\n",
    "            return mid\n",
    "        elif arr[mid] > x:\n",
    "            # update the end parameter\n",
    "            end = mid - 1\n",
    "        else:\n",
    "            # update the start parameter\n",
    "            start = mid + 1\n",
    "\n",
    "    # Searching element is not present in the array\n",
    "    return -1\n",
    "\n",
    "# Driver Code\n",
    "arr = [1, 2, 3, 4, 5, 6, 7, 8, 9]\n",
    "x = 987\n",
    "result = binary_search(arr, 0, len(arr) - 1, x)\n",
    "\n",
    "if result != -1:\n",
    "    print(\"Element Present at index\", result)\n",
    "else:\n",
    "    print(\"Element is not present in array\")"
   ]
  },
  {
   "cell_type": "markdown",
   "metadata": {},
   "source": [
    "### **Binary Search First Infinity with recursion**"
   ]
  },
  {
   "cell_type": "code",
   "execution_count": null,
   "metadata": {},
   "outputs": [],
   "source": [
    "def binary_search_first_inf(arr, start, end):\n",
    "    while start <= end:\n",
    "        mid = start + (end - start)\n",
    "\n",
    "        if arr[mid] == float('inf'):\n",
    "            # 1. check if there is only one element\n",
    "            # 2. mid -1 is not equal to 'inf'\n",
    "            if mid == 0 or arr[mid -1] != float('inf'):\n",
    "                return mid\n",
    "            else:\n",
    "                return binary_search_first_inf(arr, start, mid - 1)\n",
    "        elif arr[mid] > float('inf'):\n",
    "            return binary_search_first_inf(arr, start, mid - 1)\n",
    "        else:\n",
    "            return binary_search_first_inf(arr, mid + 1, end)\n",
    "    return -1\n",
    "\n",
    "# Example usage\n",
    "lst = [10, -2, 3, 40, 5, 6, float('inf'), float('inf'), float('inf')]\n",
    "start = 0\n",
    "end = len(arr) - 1\n",
    "\n",
    "index = binary_search_first_inf(lst, start, end)\n",
    "\n",
    "if index != -1:\n",
    "    print(\"The first float('inf') index is:\", index)\n",
    "else:\n",
    "    print(\"No float('inf') found in the list\")"
   ]
  },
  {
   "cell_type": "markdown",
   "metadata": {},
   "source": [
    "### **Binary Search First Infinity without recursion**"
   ]
  },
  {
   "cell_type": "code",
   "execution_count": null,
   "metadata": {},
   "outputs": [],
   "source": [
    "def binary_search_first_inf(lst):\n",
    "    \n",
    "    start = 0\n",
    "    end = len(lst) - 1\n",
    "\n",
    "    while start <= end:\n",
    "        mid = start + (end - start) // 2\n",
    "        if lst[mid] == float('inf'):\n",
    "            # If mid is float('inf'), check if it's the first float('inf')\n",
    "            if mid == 0 or lst[mid - 1] != float('inf'):\n",
    "                return mid\n",
    "            else:\n",
    "                end = mid - 1  # Continue searching in the left half\n",
    "        elif lst[mid] < float('inf'):  # Assuming float('inf') is greater than all other elements\n",
    "            start = mid + 1  # Continue searching in the right half\n",
    "        else:\n",
    "            end = mid - 1  # Continue searching in the left half\n",
    "\n",
    "    return -1  # Return -1 if float('inf') is not found\n",
    "\n",
    "# Example usage\n",
    "lst = [10, -2, 3, 40, 5, 6, float('inf'), float('inf'), float('inf')]\n",
    "index = binary_search_first_inf(lst)\n",
    "if index != -1:\n",
    "    print(\"The first float('inf') index is:\", index)\n",
    "else:\n",
    "    print(\"No float('inf') found in the list\")"
   ]
  }
 ],
 "metadata": {
  "kernelspec": {
   "display_name": "Python 3",
   "language": "python",
   "name": "python3"
  },
  "language_info": {
   "codemirror_mode": {
    "name": "ipython",
    "version": 3
   },
   "file_extension": ".py",
   "mimetype": "text/x-python",
   "name": "python",
   "nbconvert_exporter": "python",
   "pygments_lexer": "ipython3",
   "version": "3.12.5"
  }
 },
 "nbformat": 4,
 "nbformat_minor": 2
}
