{
 "cells": [
  {
   "cell_type": "markdown",
   "metadata": {},
   "source": [
    "# **FAANG Questions**"
   ]
  },
  {
   "cell_type": "markdown",
   "metadata": {},
   "source": [
    "## **121. Best Time to Buy and Sell Stock**"
   ]
  },
  {
   "cell_type": "code",
   "execution_count": 7,
   "metadata": {},
   "outputs": [
    {
     "name": "stdout",
     "output_type": "stream",
     "text": [
      "The maximum price of buy and sell the stock is: 17\n"
     ]
    }
   ],
   "source": [
    "# Function Definition\n",
    "def find_max_profit(prices):\n",
    "    n = len(prices)\n",
    "    min = float(\"inf\")\n",
    "    max_profit = 0\n",
    "    for i in range(n):\n",
    "        if prices[i] < min:\n",
    "            min = prices[i]\n",
    "        elif prices[i] - min > max_profit:\n",
    "            max_profit = prices[i] - min\n",
    "    return max_profit\n",
    "\n",
    "\n",
    "# Driver Code\n",
    "prices = [40, 3, 5, 7, 15, 20, 2]\n",
    "result = find_max_profit(prices)\n",
    "print(\"The maximum profit of buy and sell the stock is:\", result)"
   ]
  },
  {
   "cell_type": "markdown",
   "metadata": {},
   "source": [
    "## **Check the points are collinear or not**"
   ]
  },
  {
   "cell_type": "markdown",
   "metadata": {},
   "source": [
    "### 1. **Approach 1 - Using Slope Concept**"
   ]
  },
  {
   "cell_type": "code",
   "execution_count": 1,
   "metadata": {},
   "outputs": [
    {
     "name": "stdout",
     "output_type": "stream",
     "text": [
      "Points are Collinear\n"
     ]
    }
   ],
   "source": [
    "## Approach 1 - Using Slope Concept\n",
    "\n",
    "## Function Definition\n",
    "def isCollinearPoints(x1, x2, x3, y1, y2, y3):\n",
    "    if ((y2 - y1) * (x3 - x2)) == ((y3 - y2) * (x2 - x1)):\n",
    "        return \"Collinear\"\n",
    "    else:\n",
    "        return \"Not Collinear\"\n",
    "\n",
    "\n",
    "# Driver Code\n",
    "x1, x2, x3, y1, y2, y3= 1, 2, 3, 2, 4, 6\n",
    "result = isCollinearPoints(x1, x2, x3, y1, y2, y3)\n",
    "print(f\"Points are {result}\")"
   ]
  },
  {
   "cell_type": "markdown",
   "metadata": {},
   "source": [
    "### **Approach 2 - Using Area of Triangle**"
   ]
  },
  {
   "cell_type": "code",
   "execution_count": 7,
   "metadata": {},
   "outputs": [
    {
     "name": "stdout",
     "output_type": "stream",
     "text": [
      "Points are Not Collinear\n"
     ]
    }
   ],
   "source": [
    "## Approach 2 - Using Area of Triangle\n",
    "\n",
    "## Function Definition\n",
    "def isCollinearPoints(x1, x2, x3, y1, y2, y3):\n",
    "    if (1/2) * (x1 * (y2 - y3) + x2 * (y3 - y1) + x3 * (y1 - y2)) == 0:\n",
    "        return \"Collinear\"\n",
    "    else:\n",
    "        return \"Not Collinear\"\n",
    "\n",
    "\n",
    "# Driver Code\n",
    "x1, x2, x3, y1, y2, y3= 1, 2, 3, 2, 4, 8\n",
    "result = isCollinearPoints(x1, x2, x3, y1, y2, y3)\n",
    "print(f\"Points are {result}\")"
   ]
  },
  {
   "cell_type": "markdown",
   "metadata": {},
   "source": [
    "## **Majority Element**"
   ]
  },
  {
   "cell_type": "markdown",
   "metadata": {},
   "source": [
    "### **Approach 1 - Using Hashing**"
   ]
  },
  {
   "cell_type": "code",
   "execution_count": 10,
   "metadata": {},
   "outputs": [
    {
     "name": "stdout",
     "output_type": "stream",
     "text": [
      "1\n"
     ]
    }
   ],
   "source": [
    "# Function Definition\n",
    "from collections import Counter\n",
    "\n",
    "def majority_element(arr):\n",
    "    counts = Counter(arr)\n",
    "    return max(counts.keys(), key = counts.get)\n",
    "\n",
    "arr = [1, 1, 2, 2, 2, 1, 1]\n",
    "result = majority_element(arr)\n",
    "print(result)"
   ]
  },
  {
   "cell_type": "markdown",
   "metadata": {},
   "source": [
    "### **Approach 2 - Using Boyer Moore Voting Algorithm**"
   ]
  },
  {
   "cell_type": "code",
   "execution_count": 18,
   "metadata": {},
   "outputs": [
    {
     "name": "stdout",
     "output_type": "stream",
     "text": [
      "Candidate element is 1\n",
      "Majority Element is 1\n"
     ]
    }
   ],
   "source": [
    "# Get Candidate key\n",
    "def get_candidate_element(arr):\n",
    "    for i in range(len(arr)):\n",
    "        candidate = None\n",
    "        count = 0\n",
    "\n",
    "        if count == 0:\n",
    "            candidate = arr[i]\n",
    "            count += 1 if arr[i] == candidate else -1\n",
    "\n",
    "    return candidate\n",
    "\n",
    "\n",
    "# Get the majority element\n",
    "def isMajorityElement(arr, candidate):\n",
    "    count = 0\n",
    "    for i in range(len(arr)):\n",
    "        if arr[i] == candidate:\n",
    "            count += 1\n",
    "\n",
    "    if count > len(arr) / 2:\n",
    "        return 1\n",
    "\n",
    "    return 0\n",
    "\n",
    "\n",
    "## Function Definition\n",
    "def majority_element(arr):\n",
    "    candidate = get_candidate_element(arr)\n",
    "    isMajority = isMajorityElement(arr, candidate)\n",
    "\n",
    "    if isMajority:\n",
    "        return f\"Majority Element is {candidate}\"\n",
    "    else:\n",
    "        return \"No Majority Element\"\n",
    "\n",
    "\n",
    "# Driver Code\n",
    "arr = arr = [1, 1, 2, 2, 2, 1, 1]\n",
    "result = majority_element(arr)\n",
    "print(result)"
   ]
  },
  {
   "cell_type": "markdown",
   "metadata": {},
   "source": [
    "## **Sort Colors**"
   ]
  },
  {
   "cell_type": "code",
   "execution_count": 24,
   "metadata": {},
   "outputs": [
    {
     "name": "stdout",
     "output_type": "stream",
     "text": [
      "Sorted colors are [0, 1, 2]\n"
     ]
    }
   ],
   "source": [
    "# Function Definition\n",
    "def sort_colors(colors):\n",
    "    p1 = 0\n",
    "    min = float(\"inf\")  # minimum value\n",
    "    p2 = len(colors) - 1\n",
    "    curr = 0\n",
    "\n",
    "    while curr <= p2:\n",
    "        if colors[curr] == 0:\n",
    "            colors[curr], colors[p1] = colors[p1], colors[curr]\n",
    "            curr += 1\n",
    "            p1 += 1\n",
    "        elif colors[curr] == 2:\n",
    "            colors[curr], colors[p2] = colors[p2], colors[curr]\n",
    "            p2 -= 1\n",
    "        else:\n",
    "            curr += 1\n",
    "\n",
    "# Driver Code\n",
    "colors = [2, 0, 1]\n",
    "sort_colors(colors)\n",
    "print(f\"Sorted colors are {colors}\")\n"
   ]
  }
 ],
 "metadata": {
  "kernelspec": {
   "display_name": "Python 3",
   "language": "python",
   "name": "python3"
  },
  "language_info": {
   "codemirror_mode": {
    "name": "ipython",
    "version": 3
   },
   "file_extension": ".py",
   "mimetype": "text/x-python",
   "name": "python",
   "nbconvert_exporter": "python",
   "pygments_lexer": "ipython3",
   "version": "3.12.5"
  }
 },
 "nbformat": 4,
 "nbformat_minor": 2
}
