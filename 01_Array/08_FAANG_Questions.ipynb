{
 "cells": [
  {
   "cell_type": "markdown",
   "metadata": {},
   "source": [
    "# **FAANG Questions**"
   ]
  },
  {
   "cell_type": "markdown",
   "metadata": {},
   "source": [
    "## **121. Best Time to Buy and Sell Stock**"
   ]
  },
  {
   "cell_type": "code",
   "execution_count": 7,
   "metadata": {},
   "outputs": [
    {
     "name": "stdout",
     "output_type": "stream",
     "text": [
      "The maximum price of buy and sell the stock is: 17\n"
     ]
    }
   ],
   "source": [
    "# Function Definition\n",
    "def find_max_profit(prices):\n",
    "    n = len(prices)\n",
    "    min = float(\"inf\")\n",
    "    max_profit = 0\n",
    "    for i in range(n):\n",
    "        if prices[i] < min:\n",
    "            min = prices[i]\n",
    "        elif prices[i] - min > max_profit:\n",
    "            max_profit = prices[i] - min\n",
    "    return max_profit\n",
    "\n",
    "\n",
    "# Driver Code\n",
    "prices = [40, 3, 5, 7, 15, 20, 2]\n",
    "result = find_max_profit(prices)\n",
    "print(\"The maximum profit of buy and sell the stock is:\", result)"
   ]
  }
 ],
 "metadata": {
  "kernelspec": {
   "display_name": "Python 3",
   "language": "python",
   "name": "python3"
  },
  "language_info": {
   "codemirror_mode": {
    "name": "ipython",
    "version": 3
   },
   "file_extension": ".py",
   "mimetype": "text/x-python",
   "name": "python",
   "nbconvert_exporter": "python",
   "pygments_lexer": "ipython3",
   "version": "3.12.5"
  }
 },
 "nbformat": 4,
 "nbformat_minor": 2
}
