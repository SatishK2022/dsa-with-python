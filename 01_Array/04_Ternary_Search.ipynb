{
 "cells": [
  {
   "cell_type": "markdown",
   "metadata": {},
   "source": [
    "# **Ternary Search**"
   ]
  },
  {
   "cell_type": "code",
   "execution_count": null,
   "metadata": {},
   "outputs": [],
   "source": [
    "# \n",
    "\n",
    "def ternary_search(arr, target):\n",
    "    start = 0\n",
    "    end = len(arr) - 1\n",
    "\n",
    "    while start <= end:\n",
    "        mid1 = start + (end - start) // 3\n",
    "        mid2 = end - (end - start) // 3\n",
    "\n",
    "        if arr[mid1] == target:\n",
    "            return mid1\n",
    "        elif arr[mid2] == target:\n",
    "            return mid2\n",
    "        elif arr[mid1] > target:\n",
    "            end = mid1 - 1\n",
    "        elif arr[mid2] < target:\n",
    "            start = mid2 + 1\n",
    "        else:\n",
    "            start, end = mid1 + 1, mid2 - 1\n",
    "    return -1\n",
    "\n",
    "\n",
    "# Driver code\n",
    "arr = [1, 2, 3, 4, 5, 6, 7, 8, 9, 10]\n",
    "target = 40\n",
    "result = ternary_search(arr, target)\n",
    "\n",
    "if result != -1:\n",
    "    print(f\"Element is present at index {result}\")\n",
    "else:\n",
    "    print(\"Element is not present in array\")"
   ]
  }
 ],
 "metadata": {
  "kernelspec": {
   "display_name": "Python 3",
   "language": "python",
   "name": "python3"
  },
  "language_info": {
   "codemirror_mode": {
    "name": "ipython",
    "version": 3
   },
   "file_extension": ".py",
   "mimetype": "text/x-python",
   "name": "python",
   "nbconvert_exporter": "python",
   "pygments_lexer": "ipython3",
   "version": "3.12.5"
  }
 },
 "nbformat": 4,
 "nbformat_minor": 2
}
