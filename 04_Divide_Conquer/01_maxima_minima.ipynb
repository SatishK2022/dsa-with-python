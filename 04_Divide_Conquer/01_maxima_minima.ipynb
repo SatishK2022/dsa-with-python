{
 "cells": [
  {
   "cell_type": "markdown",
   "metadata": {},
   "source": [
    "## **Maxima and Minima**"
   ]
  },
  {
   "cell_type": "code",
   "execution_count": 2,
   "metadata": {},
   "outputs": [
    {
     "name": "stdout",
     "output_type": "stream",
     "text": [
      "(1, 40)\n"
     ]
    }
   ],
   "source": [
    "# Function Definition\n",
    "\n",
    "# This function takes an array and two indices (i and j)\n",
    "# and returns the minimum and maximum values in the array\n",
    "# between indices i and j\n",
    "def min_max(arr, i, j):\n",
    "    # Base case: if i and j are the same, then the minimum\n",
    "    # and maximum values are the same (and are the value of\n",
    "    # the element at index i)\n",
    "    if i == j:\n",
    "        min = arr[i]\n",
    "        max = arr[i]\n",
    "    # Base case: if i and j are one apart, then the minimum\n",
    "    # and maximum values are the smaller and larger of the two\n",
    "    # elements\n",
    "    elif i == j - 1:\n",
    "        if arr[i] < arr[j]:\n",
    "            min = arr[i]\n",
    "            max = arr[j]\n",
    "        else:\n",
    "            min = arr[j]\n",
    "            max = arr[i]\n",
    "    # Recursive case: if i and j are more than one apart,\n",
    "    # then divide the array into two halves and find the\n",
    "    # minimum and maximum of each half. Then, take the\n",
    "    # minimum of the two minimums and the maximum of the two\n",
    "    # maximums\n",
    "    else:\n",
    "        mid = i + (j - i) // 2\n",
    "        minl, maxl = min_max(arr, i, mid)\n",
    "        minr, maxr = min_max(arr, mid + 1, j)\n",
    "\n",
    "        # Take the minimum of the two minimums\n",
    "        if minl < minr:\n",
    "            min = minl\n",
    "        else:\n",
    "            min = minr\n",
    "\n",
    "        # Take the maximum of the two maximums\n",
    "        if maxr > maxl:\n",
    "            max = maxr\n",
    "        else:\n",
    "            max = maxl\n",
    "\n",
    "    # Return the minimum and maximum values\n",
    "    return min, max\n",
    "\n",
    "# Driver Code\n",
    "# Create an array and find the minimum and maximum values\n",
    "arr = [70, 50, 45, 10, 12, 15, 75, 29, 37, 57]\n",
    "result = min_max(arr, 0, len(arr) - 1)\n",
    "print(result)\n"
   ]
  }
 ],
 "metadata": {
  "kernelspec": {
   "display_name": "Python 3",
   "language": "python",
   "name": "python3"
  },
  "language_info": {
   "codemirror_mode": {
    "name": "ipython",
    "version": 3
   },
   "file_extension": ".py",
   "mimetype": "text/x-python",
   "name": "python",
   "nbconvert_exporter": "python",
   "pygments_lexer": "ipython3",
   "version": "3.12.5"
  }
 },
 "nbformat": 4,
 "nbformat_minor": 2
}
