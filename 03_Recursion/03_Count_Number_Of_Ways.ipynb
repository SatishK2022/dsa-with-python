{
 "cells": [
  {
   "cell_type": "markdown",
   "metadata": {},
   "source": [
    "## **Count number of ways using recursion**"
   ]
  },
  {
   "cell_type": "code",
   "execution_count": 14,
   "metadata": {},
   "outputs": [
    {
     "name": "stdout",
     "output_type": "stream",
     "text": [
      "Number of ways to reach upstairs is 8\n"
     ]
    }
   ],
   "source": [
    "# Function definition\n",
    "def helper(n):\n",
    "    if n <= 1:\n",
    "        return n\n",
    "    else:\n",
    "        return helper(n - 1) + helper(n - 2)\n",
    "\n",
    "def count_number_of_ways(s):\n",
    "    return helper(s + 1)\n",
    "\n",
    "# Driver Code \n",
    "n = 10\n",
    "result = count_number_of_ways(5)\n",
    "print(\"Number of ways to reach upstairs is\",result)"
   ]
  },
  {
   "cell_type": "markdown",
   "metadata": {},
   "source": [
    "## **Count number of ways using iterative method**"
   ]
  },
  {
   "cell_type": "code",
   "execution_count": 13,
   "metadata": {},
   "outputs": [
    {
     "name": "stdout",
     "output_type": "stream",
     "text": [
      "Number of ways to reach upstairs is 8\n"
     ]
    }
   ],
   "source": [
    "# Function definition to count the number of ways to climb a staircase\n",
    "def count_number_of_ways(n):\n",
    "    if n <= 1:\n",
    "        return n\n",
    "    else:\n",
    "        a = 0 \n",
    "        b = 1 \n",
    "\n",
    "        for i in range(3, n + 3):\n",
    "            c = a + b  \n",
    "            a = b \n",
    "            b = c \n",
    "\n",
    "        return b\n",
    "\n",
    "# Driver Code\n",
    "n = 5\n",
    "result = count_number_of_ways(n)\n",
    "print(\"Number of ways to reach upstairs is\",result)"
   ]
  }
 ],
 "metadata": {
  "kernelspec": {
   "display_name": "Python 3",
   "language": "python",
   "name": "python3"
  },
  "language_info": {
   "codemirror_mode": {
    "name": "ipython",
    "version": 3
   },
   "file_extension": ".py",
   "mimetype": "text/x-python",
   "name": "python",
   "nbconvert_exporter": "python",
   "pygments_lexer": "ipython3",
   "version": "3.12.5"
  }
 },
 "nbformat": 4,
 "nbformat_minor": 2
}
